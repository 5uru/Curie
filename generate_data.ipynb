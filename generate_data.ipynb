{
 "cells": [
  {
   "cell_type": "code",
   "execution_count": 1,
   "id": "initial_id",
   "metadata": {
    "collapsed": true,
    "ExecuteTime": {
     "end_time": "2024-03-20T17:22:43.610624Z",
     "start_time": "2024-03-20T17:22:43.413616Z"
    }
   },
   "outputs": [],
   "source": [
    "from PyPDF2 import PdfReader\n",
    "\n",
    "reader = PdfReader(\"2023.pdf\")\n",
    "number_of_pages = len(reader.pages)\n",
    "text = \"\"\n",
    "for i in range(number_of_pages):\n",
    "    page = reader.pages[i]\n",
    "    text += page.extract_text()"
   ]
  },
  {
   "cell_type": "code",
   "outputs": [],
   "source": [
    "corpus = text\n"
   ],
   "metadata": {
    "collapsed": false,
    "ExecuteTime": {
     "end_time": "2024-03-20T17:22:43.613917Z",
     "start_time": "2024-03-20T17:22:43.611476Z"
    }
   },
   "id": "9855edd362b37f5d",
   "execution_count": 2
  },
  {
   "cell_type": "code",
   "outputs": [
    {
     "data": {
      "text/plain": "\"1 \\n UNIVERSITE DE STRASBOURG                                   FACULTE DE DROIT, DE SCIENCES \\nPOLITIQUES ET DE GESTION  \\n \\n \\n     Année universitaire 2023 -24 \\n        \\n \\nCAPACITE EN DROIT  \\nBLOC DE COMPETENCE 1  \\n \\nCOURS D’INTRODUCTION AU DROIT  \\nLE DROIT OBJECTIF  \\n \\n \\n \\nMme Rzepecki  \\n \\n \\nSéance 1 \\nIntroduction à l’étude du droit  \\n \\n \\nLexiques juridiques  : \\nS. Guichard et Th. Debard (sous la direction de), Lexique des termes juridiques, Dalloz  \\nH. Roland, Lexique juridique, Expressions latines, Litec  \\n \\nManuels  : \\nJ.-L. Aubert et E. Savaux, Introduction au droit et thèmes fondam entaux du droit civil, Sirey, 19ème éd., \\n2023  \\nPh. Malaurie et P. Morvan, Introduction au droit, LGDJ, 9ème éd., 2022  \\nB. Beignier, J.-R. Binet  et A. -L. Thomat -Raynaud, Introduction au droit, LGDJ, 8ème éd., 2022  \\nS. Druffin -Bricca et L. -C. Henry, Introduction générale au droit, Mémentos LMD, Gualino, 1 7ème éd., \\n2023  \\nPh. Malinvaud et N. Balat, Introduction à l’étude du droit, LexisNexis, 23ème éd., 2023  \\n \\n \\n \\n \\nChapitre 1er Définition du droit  \\nLe terme «  droit  » a deu x sens. On parle de droit objectif ou de droits subjectifs.  \\nCes expressions n’existent pas dans la loi. Elles ne sont pas plus utilisées par les tribunaux.  \\nC’est une terminologie purement doctrinale , ce qui signifie qu’elle a été créée et qu’elle est uti lisée \\npar les professeurs de droit .  \\n \\n \\n§1er Distinction entre droit objectif et droits subjectifs  \\n \\nLe droit  est l’organisation rationnelle des rapports entre les hommes, pendant leur vie et pour après \\nla mort. A utrement dit, ce sont l es règles destinées à organiser la vie en société.   \\nCes règles sont formulées de manière générale et impersonnelle  (elle s s’adressent à tous)  : pour cette \\nraison, on parle du droit objectif (au singulier).  \\nExemple  : art. 1240 du Code civil ( C. civ. ) : toute faute causant un dommage entraine la responsabilité \\ncivile de son auteur ou art. 144  C. civ.  : il faut avoir 18 ans pour contracter mariage…  \\n 2 \\n Mais le mot droit peut encore être utilisé pour désigner les prérogatives individuelles que les \\npersonnes aller chercher dans le dr oit objectif : c’est alors de droits subjectifs (au pluriel) qu’il s’agit.  \\nCe sont toutes les possibilités qui appartiennent aux individus et qui leur sont données par la règle de \\ndroit objectif.  \\nC’est de ces droits qu’il est question quand un justiciable  va voir le juge en lui disant «  j’ai le droit de… \\n(obtenir des dommages et intérêts, obtenir le remboursement de mon prêt, obtenir un droit de visite \\npour mon enfant…)  ». \\nExemple  : quand l’article 205 du Code civil dispose1 que les enfants doivent des aliments à leurs \\nparents dans le besoin, c’est une règle générale, de droit objectif qu’il énonce.  \\nDe ce fait, le parent dans le besoin a un droit subjectif à réclamer des subsides à son enfant, le cas \\néchéant devant les tribu naux.  \\n \\nLes règles de droit qui composent le droit objectif doivent être distinguées des autres règles qui \\nrégulent la société.  \\n \\n \\n§2 P articularité de la règle d e droit  \\nOn part du constat que la société est certes régie par des règles de droit, mais qu’ell e se régule par \\nd’autres règles encore. On pense aux règles morales (courtoisie, politesse, charité) qui s’appliquent à \\ntous et, pour certains au moins, aux règles religieuses.  \\nQu’est -ce qui distingue la règle de droit de ces autres règles  ? Deux éléments  principaux.  \\n \\nA. Premier élément  : L’origine de la règle de droit.  \\nPour être une règle de droit, la règle doit émaner d’une source particulière, elle doit avoir été \\nédictée /créée  par une autorité spécifique, par exemple le Parlement , et non  par une autorité \\nreligieuse (en tout cas dans un Etat laïc ). C’est son mode d’édiction qui distingue la règle de  droit des \\nautres règles (v. fiches futures)  \\n \\n \\nB. Second élément  : Les caractères de la règle de droit.   \\nVoyons les principaux caractères de la règle de droit.  \\n \\n1° D’abord, la règle de droit est un phénomène social .  \\nToute communauté est régie par un droit. «  Ubi societas, ibi jus  » : « là où il y a société, il y a droit  » \\nou «  il n’y a pas de société sans droit  ».  \\n \\n2° Ensuite  la règle de droit  a un caractère normatif . \\nCela signifie  qu’elle prescrit une norme, au sens de règle de conduite. Autrement dit, elle  dicte un \\ncomportement aux sujets de droit. En ce sens, elle impose  ou interdit et ce, de manière obligatoire . \\n \\nNéanmoins la force obligatoire de la loi ne s’impose pas toujours avec la même intensité , la loi est \\nplus ou moins obligatoire .  \\nL’intensité varie selon que la loi est impérative ou supplétive.  \\n \\nLes lois impératives  s’imposent avec une force absolue. Ce sont les lois qui paraissent vitale s pour la \\nsociété.  \\nEn conséquence, les particuliers ne peuvent y déroger dans leurs a ccords , dans leurs contrats . Ils ne \\npeuvent prévoir autre chose que ce que prévoit la règle dans leurs contrats, même s’ils ont d’accord \\npour contourner la loi. S’ils le font,  le contrat  passé ou, du moins, la clause litigieuse , sera  nul.  \\nL’article 6 du Code civil énonce ainsi la règle  : « On ne peut déroger, par des conventions particulières, \\naux lois qui intéressent l’ordre public et les bonnes mœurs  ». Les lois impérat ives sont dites aussi \\nd’ordre public .  \\n                                                      \\n1 Attention au vocabulaire  : une règle de droit «  dispose  » (ou énonce, dit…), un contrat ou les clauses \\nd’un contrat «  stipulent  ». 3 \\n Par exemple, l’interdiction de tuer autrui est une règle impérative. On ne peut y déroger même si la \\nvictime  est consentante. Ainsi  l’euthanasie  peut être qualifiée d’homicide, alors même que la \\npersonne décédée était  consentante . \\n \\nLes lois dites supplétives , en revanche, ne s’appliquent qu’à défaut de manifestation de volonté \\ncontraire de la part des sujets de droit, que si les individus n’ont pas prévu autre chose.  \\nCela signifie qu’en présence d’une règle supplétive,  les parties ont le droit de prévoir  autre chose que \\nce qui est prévu par la règle de droit. Une manifestation de volonté  en opposition complète avec la \\ndisposition légale  est même parfaitement possible.  \\nDans leur silence en revanche  (si les parties  n’ont  rien prévu sur le point régi par la règle supplétive) , \\nla loi supplétive retrouve naturellement son empire, c’est -à-dire qu’elle va trouver à s’appliquer, \\npuisqu’elle est précisément faite pour combler ce silence. La solution qu’elle propose devra \\nnécessa irement être appliquée.  \\nEn définitive, les dispositions supplétives constituent des sortes de recommandations, des \\nsuggestions, qui traduisent ce qui paraît opportun au législateur sans être pour autant indispensables.  \\n \\nExemple de l’article 1651 du Code c ivil qui dispose que , si rien n’a été précisé à ce sujet lors de la \\nvente,  l’acheteur doit payer au lieu et dans le temps où doi t se faire la délivrance  (comprenez la mise \\nà disposition de la chose vendue ).  \\nLes parties peuvent prévoir autre chose  : rien ne les empêche les parties d’anticiper ou de retarder le \\npaiement du prix. Ma is, si elles n’ont rien prévu, le payement du prix et la livraison de la chose \\ndoivent coïncider.  \\n \\nLe plus souvent, le caractère im pératif ou supplétif d’une loi résulte expressément d’une disposition \\nde la loi  (cf art. 1651 C. civ  qui précise «  si rien n’a été précisé à ce sujet lors de la vente  ».).  \\nMais il arrive que la loi ne donne aucune indication. Dans ce cas, il revient au ju ge de décider lui-\\nmême si la règle est d’ordre public ou si, au contraire, elle ne s’applique qu’à défaut de volonté \\ncontraire des intéressés.  \\nLa règle d’ordre public sera la règle que le juge estime essentielle pour le  bon ordre de la société . La \\nlégisla tion relative à la règlementation du travail ou  à la protection des consommateurs est ainsi \\nconsidérée comme étant d’ordre public.  \\nUn employeur ne peut donc pas insérer une clause dans le contrat de travail, par laquelle il évincerait \\nles règles relatives au licenciement.  \\n \\n \\n3° Le non-respect de la règle de droit est sanctionné  par l’Etat , par le biais de ses tribunaux  \\nCe caractère est propre à la règle de droit. C’est lui qui fait de la règle de droit une règle particulière.  \\n \\nLes sanctions que p eut prononcer l’Etat sont variées.  \\n \\nOn peut distinguer selon la nature  de la sanction  : civile  (annulation d’un contrat, résolution d’un \\ncontrat, versement de dommages et intérêts, démolition d’un bâtiment irrégulièrement édifié…) , \\npénale  (peine de prison …), administrative (fermeture d’un débit de boisson, retrait d’une autori sation \\nd’exercer une activité…).  \\n \\nOn peut distinguer selon son objet  : exécuter, réparer, sanctionner.  \\nAinsi, o n peut d’abord obliger le débiteur à exécuter  ses obligations en recoura nt à des mesures de \\ncontrainte . Exemple de la saisie  : voie d’exécution qui permet à un créancier impayé de faire saisir et \\nvendre les biens de son débiteur pour se faire payer sur le prix de vente.  \\n \\nOn peut ensuite  obliger le débiteur à réparer . \\nAinsi les individus peuvent être condamnés à verser des  dommages et intérêts  : si quelqu’un par sa \\nfaute cause un dommage à autrui, il devra réparer ce dommage en versant à la victime des \\ndommages et intérêts, une somme d’argent égale au montant du dommage.  \\nAutre exemple  : si des contractants ne respectent pas les conditions de validité d’un contrat, il est \\nannulé (il est effacé rétroactivement, on fera c omme s’il n’a vait jamais existé), s’il est mal exécuté, il \\nsera résolu…  4 \\n  \\nEnfin, on peut punir  celui qui n’ aura pas respecté la règle de droit. On retrouve cette idée \\nessentiellement en droit pénal mais pas seulement. En droit pénal, les infractions (contraventions, \\ndélit, crime) sont punies de peines . Les plus courantes sont les amendes ou les peines \\nd’empriso nnement. Mais il y en a d’autres, comme le retrait du permis de conduire par exemple.  \\n \\n \\n \\nChapitre 2  La classification du droit   \\nLes règles de droit sont extrêmement nombreuses.  \\nPour permettre un meilleur accès à ces règles, des classifications ont été op érées.  \\nLa classification la plus importante est celle qui range les différentes règles de droit en branche , la \\nbranche de droit  étant un regroupement cohérent de règles en fonction de leur objet. Plusieurs \\ndistinctions peuvent être faites.  \\n \\n \\nDroit interne/ droit international  \\nDroit interne  : ensemble des règles qui ont vocation à s’appliquer dans les limites des frontières d’un \\nétat.  \\nDroit international  : ensemble des règles applicables da ns les rapports internationaux…  \\nqu’il s’agi sse de relations entre états (droit international  public)  \\nou de relations entre individus dès lors qu’il existe un  élément d’extranéité  (droit international  privé).  \\nIl en va ainsi lors que le litige peut être rattaché à la loi de plusieurs états . \\n \\nExemple d’un contrat conclu ent re une entreprise française et une entreprise allemande portant sur \\ndes marchandises qui doivent transiter des Pays -Bas en Espagne. Quatre lois ont vocation à \\ns’appliquer en cas de litige  : la loi française, la loi allemande, la loi néerlandaise ou la loi espagnole.  \\nLes règles de droit international privé prévues par la France vont préciser si les tribunaux français sont \\ncompétents et, si tel est le cas, laquelle des quatre lois le juge devra appliquer (pas nécessairement la \\nloi française) . \\n \\n \\nDroit privé/d roit public  \\nLe droit privé régit les rapports entre particuliers, par opposition au droit public, droit qui se \\npréoccupe des rapports qu’entretient l’Etat avec les particuliers et droit qui comprend les règles \\nd’organisation de l’Etat et des collectivités publiques.  \\n \\nCette distinction trouve son fondement dans une différence de finalités, de caractère et de \\njuridictions.  \\nDifférence de finalités  d’abord. La fin  (le but)  du droit public est la satisfaction de l’intérêt général , \\nalors q ue le droit privé se préoccupe  plus de garantir les intérêts individuels .  \\nAinsi s’explique que le droit public soit par nature inégalitaire (v. par exemple certaines prérogatives \\naccordée s à l’administration — possibilité de relever les tarifs du gaz ou de l’électricité par e xemple), \\nalors que le droit privé s’efforce d’être égalitaire (impossible de modifier unilatéralement les termes \\nd’un contrat de droit privé).  \\n \\nLes deux droits s’opposent ensuite par leur caractère . D’un côté, il y a urait  un droit impératif, auquel \\nil n’e st pas possible de déroger, de l’autre un droit qui peut céder, s’effacer, devant la volonté \\nindividuelle des parties (la plupart des règles étant en 1804 , date de création du Code civil,  \\nsupplétives de volonté).   \\n \\nEnfin, et surtout, le droit administratif qui est la branche fondamentale du droit public relève de \\njuridictions spéciales qui sont les juridictions administratives  : tribunal administratif, cour \\nadministrative d’appel, Conseil d’Etat, alors que le droit privé relève des jur idictions judiciaires . \\nAutrement dit, les tribunaux de l’ordre judiciaire sont incompétents pour statuer sur les litiges \\nintéressant l’administration.  5 \\n L’intérêt principal de distinguer entre branches de droit privé ou public tient aujourd’hui à cette \\ndiffé rence de juridictions . \\n \\n \\nCertains droits font indiscutablement partie du droit privé  : le droit civil, le droit commercial, la \\nprocédure civile.  \\n \\nLe droit civil  est le droit applicable aux rapports des personnes privées, en l’absence de tout droit \\nspécifiq ue.  \\n \\nSon champ d’application est donc particulièrement large.  \\nPlus précisément, le droit civil s’intéresse à la famille, dans son aspect extra -patrimonial (filiation, mariage, \\ndivorce) et patrimonial (régimes matrimoniaux, successions).  \\nIl se préoccupe aussi de la propriété ainsi que des différents droits dont l’individu peut bénéficier à l’égard d’une \\nchose (on parle de droit des biens).  \\nEnfin, le droit civil traite des obligations, c’est -à-dire des liens de droit qui se créent entre différentes person nes, \\nsoit à la suite d’un fait juridique (un accident), soit à la suite d’un acte juridique (un contrat, un testament).   \\n \\nL’essentiel du droit civil se trouve dans le Code civil – qui a grandement évolué  depuis sa création en \\n1804. De fait, lorsqu’une loi est votée, elle s’insère en général dans les articles du Code civil.  \\nA la suite du numéro de l’article, on trouve la loi d’où découle règle.  \\nExemple  : Art. 388 (L. n° 74 -631 du 5 juill. 1974).  \\nCela signifie que la rédaction a ctuelle de l’art. 388 du Code civil (C. civ.) découle de la loi indiquée, qui \\nest la 631ème loi votée dans l’année.  \\nParfois, pour intégrer le contenu d’une loi, le législateur crée de nouveaux articles.  \\nExemple des art. 388 -1 et 388 -2 C. civ.  \\n \\nNéanmoins, il arrive que certaines dispositions qui relèvent du droit civil  ne se trouvent pas dans le \\nCode civil , alors même qu’elles sont très importantes.  \\nOn citera l’ exemple  de la loi de 1985 sur les accidents de la circulation  ou de la loi de 1989 sur les \\nbaux d’habitation  qui n’ont pas été codifiées, (c’est -à-dire qu’elles n’ont pas été intégrées sous forme \\nd’articles dans le Code civil ).  \\n \\nL’importance du droit civil tient encore à ce qu’il est un droit commun , applicable en l’absence de \\ntout droit particulier.  \\nEn effet , tous les rapports entre particuliers ne sont pas régis par le droit civil, certains relèvent \\nd’autres droits, par exemple du droit du travail ou du droit de la consommation.  \\nLa particularité du droit civil, c’est que, par rapport à lui, toutes les autres b ranches du droit, tous les \\nautres droits, sont des droits d’exception qui définissent strictement leur domaine d’application .  \\nEn conséquence, si un litige ne relève pas expressément d’une branche particulière, il faut considérer \\nqu’il relève du droit civi l.  \\nCe qui veut dire que si un contrat ne relève ni du droit du travail, ni du droit de la consommation, ni \\ndu droit du crédit, ni du droit des assurances…., il sera soumis aux règles générales applicables à tout \\ncontrat qui se trouvent dans la Code civil.  \\n \\nMais attention. L e fait qu’un litige relève d’un droit spécial (par exemple, un contrat de travail relève \\ndu droit du travail) n’entraîne pas pour autant la mise à l’écart automatique du droit civil  : si aucune \\nrègle spécifique (du droit spécial/du droit du travail) n’est à même de résoudre la question, le juge \\ndevra sortir du droit spécial et se référer au droit civil pour trancher le litige qui lui est soumis.  \\n \\n \\nD’autres droits relèvent sans conteste du droit public  : le droit  constitutionnel  (ensemble des règles \\nrelatives à l’exercice du pouvoir politique), le droit administratif  (ensemble des règles relatives à l’organisation \\nadministrative de l’état et des collectivités publiques et à l’action de l’administration  : fonctionn ement des \\nservices publics, maintien de l’ordre public par la police…), le droit financier  (ensemble des règles  relatives aux \\ndépenses et recettes des collectivités publiques, droit subdivisé en droit des finances publiques  (règles relatives à \\nl’élaborati on, la présentation et l’élaboration du budget) et droit fiscal  (règles relatives aux diverses impositions), \\nle droit international public (règles régissant les rapports entre les états).  6 \\n  \\n \\nPour d’autres droits, en revanche, leur appartenance au droit priv é ou au droit public est plus difficile \\nà déterminer. On parle de droits mixtes . Quelques exemples.  \\n \\nLe droit pénal d’abord relève de cette catégorie.  \\nCe droit regroupe l’ensemble des règles juridiques qui organisent la réaction de l’Etat vis -à-vis des in fractions et \\ndes délinquants.  \\nLe droit pénal participe, relève du droit public dans la mesure où la justice est rendue au nom de l’Etat par le \\nservice public de la justice . Une fois qu’elle a déposé sa plainte, la victime n’a plus aucune prise sur la proc édure. \\nElle ne peut, contrairement à ce qui se produit dans les sociétés primitives, se faire justice. Il y a une certaine \\nmise à l’écart de la victime. L’idée est que la justice est l’affaire de l’Etat, non des victimes.  \\nD’un autre côté toutefois, il fau t bien reconnaître que le but du droit pénal, c’est de protéger les personnes et les \\nbiens. Or, par cette fonction de protection, le droit pénal tend à sauvegarder certaines libertés individuelles  : \\nsanctionner le vol, c’est reconnaître indirectement la pr opriété. C’est essentiellement pour cette raison que la \\ndoctrine le rattache au droit privé.  \\n \\nLe droit du travail est également un droit mixte.  \\nIl relève du droit privé en ce qu’il régit les relations individuelles (contrat de travail) et collectives de t ravail \\n(conventions collectives, organisation et pouvoir des syndicats, règles relatives à la grève) entre employeurs et \\nsalariés.  \\nMais de nombreux éléments de droit public interviennent  également : ainsi, les règles qui concernent \\nl’organisation de l’adm inistration du travail sont des règles de droit public (l’inspection du travail est un service \\nadministratif). La Sécurité sociale est de même un organisme qui relève du droit public. Il est traditionnel \\nnéanmoins de rattacher le droit du travail au droit privé et ce, pour des raisons historiques, les contrats de travail \\nétant à l’origine régis par le Code civil.  \\n \\n \\n \\nChapitre 3  L’organisation juridictionnelle  \\n \\nUne première distinction doit être opér ée entre l’ordre administra tif et l’ordre judiciaire.  \\n \\nL’ordre administratif est composé de 42 tribunaux administratifs , de 9  cour s administrative s d’appel \\net du Conseil d’Etat.  \\n \\nS’agissant de l’ordre judiciaire, il se décompose de la m anière suivante  : tribunaux de première  \\ninstance, cours d’appel, Cour de ca ssation.  \\nLes t ribunaux de première instance comprennent  les tribunaux judiciaires  (ces tribunaux sont  \\ncompétent s pour tous les litiges qui n'ont pas été confiés à un autre tribunal, quelle que soit la valeur \\ndu litige ), les tribunaux de commerce , les conse ils de prud’hommes  et les tribunaux paritaires des \\nbaux ruraux . \\nEn matière pénale , les infractions sont de la compétence des tribunaux de police  (pour les \\ncontraventions) , des tribunaux correctionnels  (pour les délits)  et des cours d’assise  (pour les crimes) . \\n \\nLes juridictions de première instance (ou de premier degré) statuent en principe en premier ressort , \\nce qui veut dire que les jugements  par elles rendus sont susceptibles d’appel .  \\nLorsqu’elles statuent en premier et dernier ressort  (en général lorsque le litige porte sur une somme \\ninférieure à 5000 euros), les jugements par elles rendus sont uniquement susceptibles d’un pourvoi \\nen cassation.  \\n \\nSi les justiciables ne sont pas satisfaits de la décision rendue, ils peuvent donc en principe  \\nfaire/interjeter appel  devant une cour  d’appel qui, dans un arrêt, infirme  (lorsque la cour d’appel \\nn’est pas d’accord avec le jugement rendu)  ou confirme  (lorsque la cour d’appel est d’accord avec le \\njugement rendu) le jugement déféré.  \\n \\nLes cours d’appe l forment le second degré de juridiction .  \\nLa cour d’appel statue en fait  (elle vérifie les éléments de fait  : la victime a -t-elle vraiment  subi un \\ndommage  ? Le feu était -il rouge ou vert  au moment de l’accident  ?...)  7 \\n … et en droi t (les juges on t-ils utilisé la bonne règle de droit et l’ont -ils bien appliquée  ?). \\nElle rejuge donc  l’intégralité du litige. On dit que l’appel entraîne un effet dévolutif .  \\n \\nSi les justiciables ne sont toujours pas satisfaits, ils peuvent se pourvoir en cassation  devant la  Cour \\nde cassation.   \\nLa Cour de cassation est compétente pour contrôler la totalité des décisions rendues en dernier \\nressort  (ce qui veut dire qu’il n’y a plus de voie de recours possible) , les arrêts des Cours d’appel, de la \\nCour d’assise d’appel, ainsi qu e des jugements rendus en premier et dernier ressort par les \\njuridictions du premier degré.  \\nElle est composée de six chambres entre lesquelles se répartissent les pourvois à examiner  : trois \\nchambres civiles, la première chambre civile , la deuxième chambre civile  et la  troisième cham bre \\ncivile , une  chambre commerciale, économique et financière , une  chambre sociale  et une  chambre \\ncriminelle . Chacune a un président.  Ces chambres sont permanentes.  \\nLa Cour de cassation comporte également des formations de caractère non permanent, comprenant, \\nsoit des membres de chacune des chambres (assemblées plénières), soit des membres d’au moins \\ntrois chambres (chambres mixtes),  formations qui sont présidées par le premier président.  \\nContrairement à l’appel, le pourvoi en cassation n’entraîne pas d’effet dévolutif .  \\nDe fait, si la  Cour de cassation se trouve au -dessus des autres juridictions, cela ne signifie pas pour \\nautant qu’elle soit un troisième degré de juridiction .  \\nEn effet, la Cour de cassation ne rejuge pas le fait .  \\nElle doit se contenter de juger de la conformité au droit , c’est -à-dire la légalité  (la conformité à la loi)  \\ndes décisions des juridictions du premier et second degré.  \\nElle doit en principe toujours tenir pour vrai les faits tels qu’ils ont été constatés par les juges du fond  \\n(juges du premier et du second degré). Autrement dit, elle ne peu t pas les apprécier et les qualifier \\nelle-même, voire re mettre en cause leur existence . Cela, c’est uniquement le travail des juges du \\nfond. On dit que les juges du fond sont souverains pour apprécier les faits  : on parle souvent \\nd’appréciation souveraine des juges du fond .  \\nEn pratique, la Cour de cassation va uniquement se demander si les juges du fond se sont emparés \\nde la bonne règle de droit pour fonder leur solution, s’ils l’ont bien appliquée et si leur décision est \\nbien motivée . \\n \\nLe rôle de la Cour de cassation n’est pas d’être un troisième degré de juridiction. En droit français, \\nles affaires ne sont jugées que deux fois. Son rôle est uniquement de vérifier si les juges de \\npremière instance et les juges d’appel ont correctement appliqué la loi.  \\n \\nPrenons un exemple  : un cycliste brûle un feu orange, renve rse un piéton qui traversait alors que le \\npetit bonhomme était  vert, et le blesse.  \\nCondamné en première instance à dédommager le piéton des préjudices que ce dernier  a subi sur le \\nfondement de l’artic le 1240 du Code civil, il interjette appel.  \\nEn appel, le cycliste peut essayer de disc uter le fait que le  feu était orange et prouve r qu’il était vert. \\nSi la cour d’appel l’admet, la décision de première instance sera infirmée.  \\nEn revanche, devant la Cour  de cassation, le cycliste ne peut essayer de remettre en cause  le fait que \\nle feu était orange. La Cour de cassation doit prendre acte du fait que le feu était orange. Ce fait est \\ndéfinitivement acquis.  \\n \\nEn revanche, elle devra vérifier, premièrement , si les juges du fond ont eu raison d’invoquer l’article \\n1240 du Code civil dans cette hypothèse, deuxièmement , si les conditions d’application de l’article \\n1240 étaient bien réunies en l’espèce — il faut un dommage, une faute (brûler un feu orange est -il \\nfautif ?) et un lien de causalité entre la faute et le dommage — et, troisièmement , si les juges du fond \\nse sont suffisamment expliqués sur la réunion de ces trois conditions.  \\n \\n \\nDe toute façon , pour éviter que la Cour de cassation ne rejuge le fait, il est pré vu qu’elle ne peut être \\nsaisie que dan s des cas très précis  : il est nécessaire que le demandeur se trouve dans un des cas 8 \\n d’ouverture à cassation. Or, dans ces cas d’ouverture, on ne trouve pas l’hypothèse d’une \\nappréciation erronée des faits.  \\nQuels sont ces cas  d’ouverture ?  On distingue les griefs de forme des griefs de fond.  \\n \\nLes griefs de forme  sont l’incompétence de la juridiction saisie, l’inobservation des formes de \\nprocédure, le défaut de réponse à conclusions (aux conclusions des parties)2, le dé faut de motifs  (les \\nmotifs étant les arguments présentées par les juges)  ou la contradiction de motif s. \\nDans ces hypothèses, la Cour de cassation ne se prononce pas sur le fond de la décision qui lui est \\ndéférée. Elle se contente de constater que les juges  du fond étaient ou non compétents, qu’ils ont ou \\nn’ont pas répondu aux parties, que leur décision a été ou non motivée … \\n \\nIl y a trois griefs de fond . \\nLe premier est la violation de la loi . On parle de violation de la loi dans trois hypothèses  : \\n\\uf0b7 en cas de mauvaise application de la loi  : quand une loi a été appliquée à une situation de fait \\nqu’elle n’est pas censée régir ( par exemple, si les juges ont fait application de la loi sur les accidents \\nde la circulation alors que l’accident concerne des cy clistes).  \\n\\uf0b7 en cas de refus d’application de la loi  : quand les juges ont omis d’appliquer un texte (un texte qui, \\npar exemple, prévoit une exception au texte appliqué).  \\n\\uf0b7 en cas de mauvaise interprétation de la loi.  \\n \\nLe deuxième est le défaut de base léga le. \\nIl est caractérisé dans des hypothèses où les constatations de faits opérées par les juges du fond, sont \\ninsuffisantes pour permettre à la Cour de cassation de contrôler si, oui ou non, la décision est \\nconforme au droit.  \\nIl y a bien des motifs3 – les juges ont expliqué leur décision - mais qui ne permettent pas de vérifier \\nque la loi a été correctement appliquée.  \\nExemple  : Pour que la règle de droit appliquée puisse l’être, une ou des conditions doivent être \\nremplies  : si la motivation des juges , les m otifs présents dans l’arrêt,  ne permet pas de se rendre \\ncompte que ces conditions étaient effectivement remplies en l’espèce, il pourra être demandé une \\ncassation pour défaut de base légale.  \\nIl est possible que les conditions aient été remplies en l’espèc e, mais la décision ne le montre pas, ou \\npas suffisamment bien.  \\nPar exemple, les juges précisent bien que le versement de dommages et intérêts suppose que la \\nvictime ait subi un dommage, mais ils oublient de caractériser ce dommage (séquelles physiques, \\ntraumatisme…) ou alors ils oublient de préciser que le dommage subi par la victime est certain ( dans \\nle cas où la victime demande réparation du fait qu’elle va perdre l’audition dans les mois qui \\nsuivent… ). \\n \\n \\nLe troisième grief est la dénaturation . La Cour d e cassation censure pour dénaturation lorsque les \\njuges du fond méconnaissent le sens clair et précis d’un contrat.  \\n \\n \\nLorsque le demandeur se trouve dans l’un de ces sept cas d’ouverture, la Cour de cassation, \\nvalablement saisie, apprécie la légalité de l’ arrêt ou du jugement qui lui est déféré  (elle vérifie si le \\njugement ou l’arrêt sont conformes à la loi , le mot «  légal  » venant du mot «  loi »).  \\n \\nElle examine les arguments du demandeur au pourvoi, appelés les moyens .  \\nSi elle ne les juge pas recevables,  elle rejette le pourvoi  et la décision attaquée devient irrévocable  \\n(elle ne peut plus être attaquée) .  \\n \\nSi, au contraire, elle estime que la décision rendue en dernier ressort n’est pas conforme au droit, elle \\ncasse et annule  totalement ou partiellement ladite décision.  \\n                                                      \\n2 Les avocats rédigent des «  conclusions  ». \\n3 Les motifs sont les arguments présentés par les juges.  9 \\n Dans cette hypothèse, elle est alors obligée de renvoyer à une juridiction de même degré  (premier \\ndegré (tribunal judiciaire par exemple) ou cour d’appel)  et de même nature que celle qui a rendu la \\ndécision annulée  (si la décision annulée a été rendue par une tribunal de commerce, la Cour de \\ncassation renvoie devant un autre tribunal de commerce) . \\nCe nécessaire renvoi s’explique par le fait que la Cour de cassation ne  rejuge  l’intégralité de l’affaire  \\n(puisqu’elle d oit se contenter de vérifier si la décision rendue en dernier ressort est ou non conforme \\nà la loi) .  \\n \\nPar exception, elle peut prononcer une cassation sans renvoi, d’une part lorsque la cassation n’implique pas qu’il \\nsoit à nouveau jugé sur le fond (une c our d’appel aurait prononcé une sanction interdite par la loi, la juridiction \\nsaisie était incompétente), d’autre part, en matière pénale, lorsque les faits, tels qu’ils ont été souverainement \\nappréciés et constatés par les juges du fond permettent à la Co ur de cassation de mettre fin au litige en \\nappliquant elle -même la règle de droit aux faits, enfin en matière civile, lorsque   « l’intérêt d’une bonne \\nadministration de la justice le justifie  » (COJ, art. L. 411 -3). \\n \""
     },
     "execution_count": 3,
     "metadata": {},
     "output_type": "execute_result"
    }
   ],
   "source": [
    "text"
   ],
   "metadata": {
    "collapsed": false,
    "ExecuteTime": {
     "end_time": "2024-03-20T17:22:46.919945Z",
     "start_time": "2024-03-20T17:22:46.914576Z"
    }
   },
   "id": "98e085fa6d97297e",
   "execution_count": 3
  },
  {
   "cell_type": "code",
   "outputs": [],
   "source": [],
   "metadata": {
    "collapsed": false
   },
   "id": "e5ef345e2dc6478e"
  },
  {
   "cell_type": "code",
   "outputs": [],
   "source": [
    "\n",
    "from nltk.tokenize import PunktSentenceTokenizer\n",
    "\n",
    "# Initialize the Punkt tokenizer for sentence splitting\n",
    "tokenizer = PunktSentenceTokenizer()\n",
    "\n",
    "# Tokenize the corpus into sentences\n",
    "sentences = tokenizer.tokenize(corpus.replace(\"\\n\\n\\n\\n\", \"  \"))\n",
    "\n",
    "# Now, group the sentences into paragraphs.\n",
    "# This is a simple heuristic that groups sentences into paragraphs of around 5 sentences.\n",
    "# You might need to adjust this heuristic based on the specifics of your corpus.\n",
    "paragraphs = [' '.join(sentences[i:i + 5]) for i in range(0, len(sentences), 5)]\n",
    "\n",
    "# Print the paragraphs\n",
    "for para in paragraphs:\n",
    "    print(\"##############################################\")\n",
    "    print(para)"
   ],
   "metadata": {
    "collapsed": false
   },
   "id": "a715f0f0ca0f5bb5",
   "execution_count": null
  },
  {
   "cell_type": "code",
   "outputs": [],
   "source": [
    "paragraphs = corpus.split('\\n\\n')\n",
    "\n",
    "# Now, you can iterate over the paragraphs\n",
    "for para in paragraphs:\n",
    "    print(\"##############################################\")\n",
    "    print(para)"
   ],
   "metadata": {
    "collapsed": false
   },
   "id": "9952ea6a27e002b5",
   "execution_count": null
  },
  {
   "cell_type": "code",
   "outputs": [],
   "source": [
    "from textblob import TextBlob\n",
    "\n",
    "# Create a TextBlob object\n",
    "blob = TextBlob(corpus)\n",
    "\n",
    "# Split the corpus into paragraphs\n",
    "paragraphs = blob.paragraphs\n",
    "\n",
    "# Now, you can iterate over the paragraphs\n",
    "for para in paragraphs:\n",
    "    print(para)"
   ],
   "metadata": {
    "collapsed": false
   },
   "id": "b87b6fd7f0eb0825",
   "execution_count": null
  },
  {
   "cell_type": "code",
   "outputs": [],
   "source": [
    "from gensim.utils import tokenize\n",
    "\n",
    "# Tokenize the corpus into sentences\n",
    "sentences = list(tokenize(corpus, lowercase=False, deacc=True))\n",
    "\n",
    "# Now, group the sentences into paragraphs.\n",
    "# This is a simple heuristic that groups sentences into paragraphs based on line breaks.\n",
    "paragraphs = ' '.join(sentence for sentence in sentences if sentence not in ('\\n', '\\r\\n'))\n",
    "\n",
    "paragraphs"
   ],
   "metadata": {
    "collapsed": false
   },
   "id": "c7fc84ee377a67e5",
   "execution_count": null
  },
  {
   "cell_type": "code",
   "outputs": [
    {
     "name": "stderr",
     "output_type": "stream",
     "text": [
      "huggingface/tokenizers: The current process just got forked, after parallelism has already been used. Disabling parallelism to avoid deadlocks...\n",
      "To disable this warning, you can either:\n",
      "\t- Avoid using `tokenizers` before the fork if possible\n",
      "\t- Explicitly set the environment variable TOKENIZERS_PARALLELISM=(true | false)\n"
     ]
    },
    {
     "data": {
      "text/plain": "Fetching 10 files:   0%|          | 0/10 [00:00<?, ?it/s]",
      "application/vnd.jupyter.widget-view+json": {
       "version_major": 2,
       "version_minor": 0,
       "model_id": "9dd7ae7b1fb348b88944ba4e8f6d8dd5"
      }
     },
     "metadata": {},
     "output_type": "display_data"
    },
    {
     "name": "stderr",
     "output_type": "stream",
     "text": [
      "You set `add_prefix_space`. The tokenizer needs to be converted from the slow tokenizers\n",
      "Special tokens have been added in the vocabulary, make sure the associated word embeddings are fine-tuned or trained.\n"
     ]
    },
    {
     "name": "stdout",
     "output_type": "stream",
     "text": [
      "==========\n",
      "Prompt: \n",
      "     <BOS_TOKEN> <|START_OF_TURN_TOKEN|>\n",
      "<|SYSTEM_TOKEN|> # Safety Preamble\n",
      "The instructions in this section override those in the task description and style guide sections. Don't generate content that is harmful or immoral. Always base the information strictly on the provided corpus; never fabricate data, hallucinate information, or invent content not present in the corpus. If there is no relevant information in the corpus, you should return 'None'.\n",
      "\n",
      "# System Preamble\n",
      "## Basic Rules\n",
      "You are a powerful conversational AI trained to help people by generating a well-structured set of significant and relevant questions and answers strictly based on a provided corpus. Your job is to use the output of these tools to best help the user. Always base the information strictly on the provided corpus; never fabricate data, hallucinate information, or invent content not present in the corpus. If there is no relevant information in the corpus, you should return 'None'.\n",
      "\n",
      "# User Preamble\n",
      "## Task and Context\n",
      "You help people create flashcards by generating a set of questions and answers strictly based on a given corpus. You should prioritize the questions and answers according to their importance within the context of the corpus and the specified themes. The following themes have been identified: DROIT ,RÈGLES ,LOI ,JUGE ,COURS.\n",
      "\n",
      "## Style Guide\n",
      "Generate the output in JSON format, using the 'Quiz' and 'QuizCollection' classes as specified. Ensure that the output is in the same language as FR. The content of the questions and answers must be strictly based on the provided corpus. If there is no relevant information in the corpus, return 'None' for the corresponding field.\n",
      "\n",
      "## Available Tools\n",
      "Here is a list of tools that you have available to you:\n",
      "\n",
      "```python\n",
      "class Quiz(BaseModel):\n",
      "    question: str\n",
      "    answer: str\n",
      "\n",
      "class QuizCollection(BaseModel):\n",
      "    collection: List[Quiz]\n",
      "<|END_OF_TURN_TOKEN|> <|START_OF_TURN_TOKEN|><|USER_TOKEN|>\n",
      "Please generate a well-structured set of significant and relevant questions and answers strictly based on the following corpus:\n",
      "<|im_start|>corpus 1 \n",
      " UNIVERSITE DE STRASBOURG                                   FACULTE DE DROIT, DE SCIENCES \n",
      "POLITIQUES ET DE GESTION  \n",
      " \n",
      " \n",
      "     Année universitaire 2023 -24 \n",
      "        \n",
      " \n",
      "CAPACITE EN DROIT  \n",
      "BLOC DE COMPETENCE 1  \n",
      " \n",
      "COURS D’INTRODUCTION AU DROIT  \n",
      "LE DROIT OBJECTIF  \n",
      " \n",
      " \n",
      " \n",
      "Mme Rzepecki  \n",
      " \n",
      " \n",
      "Séance 1 \n",
      "Introduction à l’étude du droit  \n",
      " \n",
      " \n",
      "Lexiques juridiques  : \n",
      "S. Guichard et Th. Debard (sous la direction de), Lexique des termes juridiques, Dalloz  \n",
      "H. Roland, Lexique juridique, Expressions latines, Litec  \n",
      " \n",
      "Manuels  : \n",
      "J.-L. Aubert et E. Savaux, Introduction au droit et thèmes fondam entaux du droit civil, Sirey, 19ème éd., \n",
      "2023  \n",
      "Ph. Malaurie et P. Morvan, Introduction au droit, LGDJ, 9ème éd., 2022  \n",
      "B. Beignier, J.-R. Binet  et A. -L. Thomat -Raynaud, Introduction au droit, LGDJ, 8ème éd., 2022  \n",
      "S. Druffin -Bricca et L. -C. Henry, Introduction générale au droit, Mémentos LMD, Gualino, 1 7ème éd., \n",
      "2023  \n",
      "Ph. Malinvaud et N. Balat, Introduction à l’étude du droit, LexisNexis, 23ème éd., 2023  \n",
      " \n",
      " \n",
      " \n",
      " \n",
      "Chapitre 1er Définition du droit  \n",
      "Le terme «  droit  » a deu x sens. On parle de droit objectif ou de droits subjectifs.  \n",
      "Ces expressions n’existent pas dans la loi. Elles ne sont pas plus utilisées par les tribunaux.  \n",
      "C’est une terminologie purement doctrinale , ce qui signifie qu’elle a été créée et qu’elle est uti lisée \n",
      "par les professeurs de droit .  \n",
      " \n",
      " \n",
      "§1er Distinction entre droit objectif et droits subjectifs  \n",
      " \n",
      "Le droit  est l’organisation rationnelle des rapports entre les hommes, pendant leur vie et pour après \n",
      "la mort. A utrement dit, ce sont l es règles destinées à organiser la vie en société.   \n",
      "Ces règles sont formulées de manière générale et impersonnelle  (elle s s’adressent à tous)  : pour cette \n",
      "raison, on parle du droit objectif (au singulier).  \n",
      "Exemple  : art. 1240 du Code civil ( C. civ. ) : toute faute causant un dommage entraine la responsabilité \n",
      "civile de son auteur ou art. 144  C. civ.  : il faut avoir 18 ans pour contracter mariage…  \n",
      " 2 \n",
      " Mais le mot droit peut encore être utilisé pour désigner les prérogatives individuelles que les \n",
      "personnes aller chercher dans le dr oit objectif : c’est alors de droits subjectifs (au pluriel) qu’il s’agit.  \n",
      "Ce sont toutes les possibilités qui appartiennent aux individus et qui leur sont données par la règle de \n",
      "droit objectif.  \n",
      "C’est de ces droits qu’il est question quand un justiciable  va voir le juge en lui disant «  j’ai le droit de… \n",
      "(obtenir des dommages et intérêts, obtenir le remboursement de mon prêt, obtenir un droit de visite \n",
      "pour mon enfant…)  ». \n",
      "Exemple  : quand l’article 205 du Code civil dispose1 que les enfants doivent des aliments à leurs \n",
      "parents dans le besoin, c’est une règle générale, de droit objectif qu’il énonce.  \n",
      "De ce fait, le parent dans le besoin a un droit subjectif à réclamer des subsides à son enfant, le cas \n",
      "échéant devant les tribu naux.  \n",
      " \n",
      "Les règles de droit qui composent le droit objectif doivent être distinguées des autres règles qui \n",
      "régulent la société.  \n",
      " \n",
      " \n",
      "§2 P articularité de la règle d e droit  \n",
      "On part du constat que la société est certes régie par des règles de droit, mais qu’ell e se régule par \n",
      "d’autres règles encore. On pense aux règles morales (courtoisie, politesse, charité) qui s’appliquent à \n",
      "tous et, pour certains au moins, aux règles religieuses.  \n",
      "Qu’est -ce qui distingue la règle de droit de ces autres règles  ? Deux éléments  principaux.  \n",
      " \n",
      "A. Premier élément  : L’origine de la règle de droit.  \n",
      "Pour être une règle de droit, la règle doit émaner d’une source particulière, elle doit avoir été \n",
      "édictée /créée  par une autorité spécifique, par exemple le Parlement , et non  par une autorité\n",
      "<|im_end|>\n",
      "Ensure that the output is in JSON format, in the same language as FR, and adheres to the provided schema.\n",
      "<|END_OF_TURN_TOKEN|> <|START_OF_TURN_TOKEN|><|SYSTEM_TOKEN|>\n",
      "Generate the output in the specified format, basing the output strictly on the provided corpus and the identified themes. If there is no relevant information in the corpus, return 'None' for the corresponding field. Remember to use the following schema for the output:\n",
      "\n",
      "\n",
      "{\n",
      "    \"collection\": [\n",
      "    {\n",
      "    \"question\": \"string\",\n",
      "      \"answer\": \"string\"\n",
      "    }\n",
      "  ]\n",
      "}\n",
      "<|END_OF_TURN_TOKEN|>\n",
      "     \n",
      "{\n",
      "        \"collection\": [\n",
      "          {\n",
      "            \"question\": \"Définissez-vous le droit objectif.\",\n",
      "            \"answer\": \"Le droit objectif est l'organisation rationnelle des rapports entre les humains, pendant leur vie et pour après la mort. Ce sont les règles formulées de manière générale et impersonnelle qui s'adressent à tous.\"\n",
      "          },\n",
      "          {\n",
      "            \"question\": \"Comment est-il possible de différencier les droits objectif et subjectifs?\",\n",
      "            \"answer\": \"Le droit objectif concerne les règles générales qui régissent la société, tandis que les droits subjectifs sont les prérogatives individuelles que les personnes trouvent dans le droit objectif. Le droit objectif est impersonnel, alors que les droits subjectifs relèvent des droits individuels.\"\n",
      "          },\n",
      "          {\n",
      "            \"question\": \"Qu'est-ce que la distinction entre le droit objectif et les droits subjectifs?\",\n",
      "            \"answer\": \"La distinction entre le droit objectif et les droits subjectifs réside dans la nature des règles qui régissent la société. Le droit objectif correspond à des règles générales qui s'appliquent à tous, tandis que les droits subjectifs sont des droits individuels qui ont été tirés de ces règles générales.\"\n",
      "          },\n",
      "          {\n",
      "            \"question\": \"Que représente le droit objectif dans le cadre de la société?\",\n",
      "            \"answer\": \"Le droit objectif représente l'ensemble des règles générales qui régissent la vie en société. Il s'agit des lois écrites et non écrites qui définissent et contrôlent les relations entre les individus et les institutions dans une société donnée.\"\n",
      "          },\n",
      "          {\n",
      "            \"question\": \"Quelles sont les sources de la règle de droit?\",\n",
      "            \"answer\": \"La règle de droit peut émaner d'une autorité spécifique, comme le Parlement, ce qui la distingue des autres règles qui régissent la société, telles que les règles morales ou religieuses.\"\n",
      "          }\n",
      "        ]\n",
      "      }\n",
      "==========\n",
      "Prompt: 111.629 tokens-per-sec\n",
      "Generation: 6.945 tokens-per-sec\n"
     ]
    },
    {
     "data": {
      "text/plain": "Fetching 10 files:   0%|          | 0/10 [00:00<?, ?it/s]",
      "application/vnd.jupyter.widget-view+json": {
       "version_major": 2,
       "version_minor": 0,
       "model_id": "c5b2f700d0524585aa194439da92fd4f"
      }
     },
     "metadata": {},
     "output_type": "display_data"
    },
    {
     "name": "stderr",
     "output_type": "stream",
     "text": [
      "Special tokens have been added in the vocabulary, make sure the associated word embeddings are fine-tuned or trained.\n"
     ]
    },
    {
     "name": "stdout",
     "output_type": "stream",
     "text": [
      "==========\n",
      "Prompt: \n",
      "     <BOS_TOKEN> <|START_OF_TURN_TOKEN|>\n",
      "<|SYSTEM_TOKEN|> # Safety Preamble\n",
      "The instructions in this section override those in the task description and style guide sections. Don't generate content that is harmful or immoral. Always base the information strictly on the provided corpus; never fabricate data, hallucinate information, or invent content not present in the corpus. If there is no relevant information in the corpus, you should return 'None'.\n",
      "\n",
      "# System Preamble\n",
      "## Basic Rules\n",
      "You are a powerful conversational AI trained to help people by generating a well-structured set of significant and relevant questions and answers strictly based on a provided corpus. Your job is to use the output of these tools to best help the user. Always base the information strictly on the provided corpus; never fabricate data, hallucinate information, or invent content not present in the corpus. If there is no relevant information in the corpus, you should return 'None'.\n",
      "\n",
      "# User Preamble\n",
      "## Task and Context\n",
      "You help people create flashcards by generating a set of questions and answers strictly based on a given corpus. You should prioritize the questions and answers according to their importance within the context of the corpus and the specified themes. The following themes have been identified: DROIT ,RÈGLES ,LOI ,JUGE ,COURS.\n",
      "\n",
      "## Style Guide\n",
      "Generate the output in JSON format, using the 'Quiz' and 'QuizCollection' classes as specified. Ensure that the output is in the same language as FR. The content of the questions and answers must be strictly based on the provided corpus. If there is no relevant information in the corpus, return 'None' for the corresponding field.\n",
      "\n",
      "## Available Tools\n",
      "Here is a list of tools that you have available to you:\n",
      "\n",
      "```python\n",
      "class Quiz(BaseModel):\n",
      "    question: str\n",
      "    answer: str\n",
      "\n",
      "class QuizCollection(BaseModel):\n",
      "    collection: List[Quiz]\n",
      "<|END_OF_TURN_TOKEN|> <|START_OF_TURN_TOKEN|><|USER_TOKEN|>\n",
      "Please generate a well-structured set of significant and relevant questions and answers strictly based on the following corpus:\n",
      "<|im_start|>corpus Qu’est -ce qui distingue la règle de droit de ces autres règles  ? Deux éléments  principaux.  \n",
      " \n",
      "A. Premier élément  : L’origine de la règle de droit.  \n",
      "Pour être une règle de droit, la règle doit émaner d’une source particulière, elle doit avoir été \n",
      "édictée /créée  par une autorité spécifique, par exemple le Parlement , et non  par une autorité \n",
      "religieuse (en tout cas dans un Etat laïc ). C’est son mode d’édiction qui distingue la règle de  droit des \n",
      "autres règles (v. fiches futures)  \n",
      " \n",
      " \n",
      "B. Second élément  : Les caractères de la règle de droit.   \n",
      "Voyons les principaux caractères de la règle de droit.  \n",
      " \n",
      "1° D’abord, la règle de droit est un phénomène social .  \n",
      "Toute communauté est régie par un droit. «  Ubi societas, ibi jus  » : « là où il y a société, il y a droit  » \n",
      "ou «  il n’y a pas de société sans droit  ».  \n",
      " \n",
      "2° Ensuite  la règle de droit  a un caractère normatif . \n",
      "Cela signifie  qu’elle prescrit une norme, au sens de règle de conduite. Autrement dit, elle  dicte un \n",
      "comportement aux sujets de droit. En ce sens, elle impose  ou interdit et ce, de manière obligatoire . \n",
      " \n",
      "Néanmoins la force obligatoire de la loi ne s’impose pas toujours avec la même intensité , la loi est \n",
      "plus ou moins obligatoire .  \n",
      "L’intensité varie selon que la loi est impérative ou supplétive.  \n",
      " \n",
      "Les lois impératives  s’imposent avec une force absolue. Ce sont les lois qui paraissent vitale s pour la \n",
      "société.  \n",
      "En conséquence, les particuliers ne peuvent y déroger dans leurs a ccords , dans leurs contrats . Ils ne \n",
      "peuvent prévoir autre chose que ce que prévoit la règle dans leurs contrats, même s’ils ont d’accord \n",
      "pour contourner la loi. S’ils le font,  le contrat  passé ou, du moins, la clause litigieuse , sera  nul.  \n",
      "L’article 6 du Code civil énonce ainsi la règle  : « On ne peut déroger, par des conventions particulières, \n",
      "aux lois qui intéressent l’ordre public et les bonnes mœurs  ». Les lois impérat ives sont dites aussi \n",
      "d’ordre public .  \n",
      "                                                      \n",
      "1 Attention au vocabulaire  : une règle de droit «  dispose  » (ou énonce, dit…), un contrat ou les clauses \n",
      "d’un contrat «  stipulent  ». 3 \n",
      " Par exemple, l’interdiction de tuer autrui est une règle impérative. On ne peut y déroger même si la \n",
      "victime  est consentante. Ainsi  l’euthanasie  peut être qualifiée d’homicide, alors même que la \n",
      "personne décédée était  consentante . \n",
      " \n",
      "Les lois dites supplétives , en revanche, ne s’appliquent qu’à défaut de manifestation de volonté \n",
      "contraire de la part des sujets de droit, que si les individus n’ont pas prévu autre chose.  \n",
      "Cela signifie qu’en présence d’une règle supplétive,  les parties ont le droit de prévoir  autre chose que \n",
      "ce qui est prévu par la règle de droit. Une manifestation de volonté  en opposition complète avec la \n",
      "disposition légale  est même parfaitement possible.  \n",
      "Dans leur silence en revanche  (si les parties  n’ont  rien prévu sur le point régi par la règle supplétive) , \n",
      "la loi supplétive retrouve naturellement son empire, c’est -à-dire qu’elle va trouver à s’appliquer, \n",
      "puisqu’elle est précisément faite pour combler ce silence. La solution qu’elle propose devra \n",
      "nécessa irement être appliquée.  \n",
      "En définitive, les dispositions supplétives constituent des sortes de recommandations, des \n",
      "suggestions, qui traduisent ce qui paraît opportun au législateur sans être pour autant indispensables.  \n",
      " \n",
      "Exemple de l’article 1651 du Code c ivil qui dispose que , si rien n’a été précisé à ce sujet lors de la \n",
      "vente,  l’acheteur doit payer au lieu et dans le temps où doi t se faire la délivrance  (comprenez la mise \n",
      "à disposition de la chose vendue ).  \n",
      "Les parties peuvent prévoir autre chose  : rien ne les empêche les parties d’anticiper ou de retarder le \n",
      "paiement du prix. Ma is, si elles n’ont rien prévu, le payement du prix et la livraison de la chose \n",
      "doivent coïncider.  \n",
      " \n",
      "Le plus souvent, le caractère im pératif ou supplétif d’une loi résulte expressément d’une disposition\n",
      "<|im_end|>\n",
      "Ensure that the output is in JSON format, in the same language as FR, and adheres to the provided schema.\n",
      "<|END_OF_TURN_TOKEN|> <|START_OF_TURN_TOKEN|><|SYSTEM_TOKEN|>\n",
      "Generate the output in the specified format, basing the output strictly on the provided corpus and the identified themes. If there is no relevant information in the corpus, return 'None' for the corresponding field. Remember to use the following schema for the output:\n",
      "\n",
      "\n",
      "{\n",
      "    \"collection\": [\n",
      "    {\n",
      "    \"question\": \"string\",\n",
      "      \"answer\": \"string\"\n",
      "    }\n",
      "  ]\n",
      "}\n",
      "<|END_OF_TURN_TOKEN|>\n",
      "     \n",
      "{\n",
      "        \"collection\": [\n",
      "          {\n",
      "            \"question\": \"Qu'est-ce qui distingue la règle de droit des autres règles ?\",\n",
      "            \"answer\": \"La règle de droit est distinguée des autres règles par deux éléments principaux : d'une part, son origine et, d'autre part, ses caractères.\"\n",
      "          },\n",
      "          {\n",
      "            \"question\": \"De qu"
     ]
    }
   ],
   "source": [
    "from curie.generate_quizz import quiz\n",
    "\n",
    "quiz(corpus)"
   ],
   "metadata": {
    "collapsed": false,
    "is_executing": true
   },
   "id": "8d3573344a8a03a5",
   "execution_count": null
  },
  {
   "cell_type": "code",
   "outputs": [],
   "source": [],
   "metadata": {
    "collapsed": false
   },
   "id": "ae7af7cfd041f160"
  }
 ],
 "metadata": {
  "kernelspec": {
   "display_name": "Python 3",
   "language": "python",
   "name": "python3"
  },
  "language_info": {
   "codemirror_mode": {
    "name": "ipython",
    "version": 2
   },
   "file_extension": ".py",
   "mimetype": "text/x-python",
   "name": "python",
   "nbconvert_exporter": "python",
   "pygments_lexer": "ipython2",
   "version": "2.7.6"
  }
 },
 "nbformat": 4,
 "nbformat_minor": 5
}
