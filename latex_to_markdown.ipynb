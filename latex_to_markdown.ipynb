{
 "cells": [
  {
   "cell_type": "code",
   "execution_count": 1,
   "id": "initial_id",
   "metadata": {
    "collapsed": true,
    "ExecuteTime": {
     "end_time": "2024-03-18T21:11:05.890821Z",
     "start_time": "2024-03-18T21:11:05.711635Z"
    }
   },
   "outputs": [],
   "source": [
    "from PyPDF2 import PdfReader\n",
    "\n",
    "reader = PdfReader(\"2023.pdf\")\n",
    "number_of_pages = len(reader.pages)\n",
    "text = \"\"\n",
    "for i in range(number_of_pages):\n",
    "    page = reader.pages[i]\n",
    "    text += page.extract_text()"
   ]
  },
  {
   "cell_type": "code",
   "outputs": [
    {
     "name": "stderr",
     "output_type": "stream",
     "text": [
      "huggingface/tokenizers: The current process just got forked, after parallelism has already been used. Disabling parallelism to avoid deadlocks...\n",
      "To disable this warning, you can either:\n",
      "\t- Avoid using `tokenizers` before the fork if possible\n",
      "\t- Explicitly set the environment variable TOKENIZERS_PARALLELISM=(true | false)\n"
     ]
    },
    {
     "data": {
      "text/plain": "Fetching 9 files:   0%|          | 0/9 [00:00<?, ?it/s]",
      "application/vnd.jupyter.widget-view+json": {
       "version_major": 2,
       "version_minor": 0,
       "model_id": "37af10b231a64952a2eae9fe9c1e665f"
      }
     },
     "metadata": {},
     "output_type": "display_data"
    },
    {
     "name": "stderr",
     "output_type": "stream",
     "text": [
      "You set `add_prefix_space`. The tokenizer needs to be converted from the slow tokenizers\n",
      "Special tokens have been added in the vocabulary, make sure the associated word embeddings are fine-tuned or trained.\n"
     ]
    },
    {
     "name": "stdout",
     "output_type": "stream",
     "text": [
      "==========\n",
      "Prompt:  <|im_start|>system You are a skilled flashcard creator. Your task is to generate a comprehensive \n",
      "     set of questions and answers based on the provided text (CORPUS). Ensure that both the questions and answers \n",
      "      align with the language used in the corpus. The content should focus on the specific topics specified by the \n",
      "       user. The final product must be in the same language as the corpus. Always base the information on the corpus; \n",
      "        never fabricate data.\n",
      "\n",
      "To create the most effective learning tool, follow these guidelines:\n",
      "\n",
      "Identify key topics within the corpus based on the user's specifications. Select the most important and relevant \n",
      " information related to these topics. Generate a diverse set of questions that effectively cover the chosen \n",
      "  information. Create concise, accurate, and engaging answers to these questions using information from the corpus. \n",
      "   <|im_end|> <|im_start|>user Please generate a diverse set of important and relevant questions and answers based on \n",
      "    the following corpus: <|im_start|>corpus 1 \n",
      " UNIVERSITE DE STRASBOURG                                   FACULTE DE DROIT, DE SCIENCES \n",
      "POLITIQUES ET DE GESTION  \n",
      " \n",
      " \n",
      "     Année universitaire 2023 -24 \n",
      "        \n",
      " \n",
      "CAPACITE EN DROIT  \n",
      "BLOC DE COMPETENCE 1  \n",
      " \n",
      "COURS D’INTRODUCTION AU DROIT  \n",
      "LE DROIT OBJECTIF  \n",
      " \n",
      " \n",
      " \n",
      "Mme Rzepecki  \n",
      " \n",
      " \n",
      "Séance 1 \n",
      "Introduction à l’étude du droit  \n",
      " \n",
      " \n",
      "Lexiques juridiques  : \n",
      "S. Guichard et Th. Debard (sous la direction de), Lexique des termes juridiques, Dalloz  \n",
      "H. Roland, Lexique juridique, Expressions latines, Litec  \n",
      " \n",
      "Manuels  : \n",
      "J.-L. Aubert et E. Savaux, Introduction au droit et thèmes fondam entaux du droit civil, Sirey, 19ème éd., \n",
      "2023  \n",
      "Ph. Malaurie et P. Morvan, Introduction au droit, LGDJ, 9ème éd., 2022  \n",
      "B. Beignier, J.-R. Binet  et A. -L. Thomat -Raynaud, Introduction au droit, LGDJ, 8ème éd., 2022  \n",
      "S. Druffin -Bricca et L. -C. Henry, Introduction générale au droit, Mémentos LMD, Gualino, 1 7ème éd., \n",
      "2023  \n",
      "Ph. Malinvaud et N. Balat, Introduction à l’étude du droit, LexisNexis, 23ème éd., 2023  \n",
      " \n",
      " \n",
      " \n",
      " \n",
      "Chapitre 1er Définition du droit <|im_end|> <|im_end|> <|im_start|>assistant\n",
      "    OUTPUT MUST BE IN THE SAME LANGUAGE AS FR. \n",
      "      Upon careful  analysis, the following topics have been identified within the corpus: DROIT ,RÈGLES ,LOI ,JUGE ,COURS. \n",
      "       Based on these topics, I have created a diverse set of important and relevant questions and answers derived \n",
      "        from the corpus: {\"collection\": [ {\"question\" : \"Here is an engaging and thought-provoking question that \n",
      "         addresses a significant aspect of the CORPUS, presented in the same language.\", \"answer\": \"Here is a \n",
      "          concise, accurate, and engaging response to the question, utilizing information from the CORPUS, \n",
      "           provided in the same language.\" }, ... ] } <|im_end|>\n",
      " \n",
      "{\"collection\": [{\"question\": \"Quelle est la définition du droit selon les manuels recommandés?\", \"answer\": \"Selon les manuels recommandés, le droit peut être défini comme un ensemble de règles écrites ou unificates qui régissent les relations entre les individus et les organisations dans une société.\", \"source\": \"Ph. Malaurie et P. Morvan, Introduction au droit, LGDJ, 9ème éd., 2022\"},{\"question\": \"Comment les lexiques juridiques contribuent-ils à l'étude du droit ?\", \"answer\": \"Les lexiques juridiques, tels que ceux proposés par S. Guichard et Th. Debard ainsi que par H. Roland, aident à comprendre les termes et expressions spécifiques du droit et facilitent l'accès aux sources de droit en utilisant un langage familier.\", \"source\": \"S. Guichard et Th. Debard (sous la direction de), Lexique des termes juridiques, Dalloz ; H. Roland, Lexique juridique, Expressions latines, Litec\"},{\"question\": \"Quels sont les manuels d'introduction au droit proposés pour l'année universitaire 2023-24 ?\", \"answer\": \"Parmi les manuels d'introduction au droit proposés pour l'année universitaire 2023-24, nous trouvons :\\n- J.-L. Aubert et E. Savaux, Introduction au droit et thèmes fondamentaux du droit civil, Sirey, 19ème éd., 2023\\n- Ph. Malaurie et P. Morvan, Introduction au droit, LGDJ, 9ème éd., 2022\\n- B. Beignier, J.-R. Binet et A. -L. Thomat -Raynaud, Introduction au droit, LGDJ, 8ème éd., 2022\\n- S. Druffin -Bricca et L. -C. Henry, Introduction générale au droit, Mémentos LMD, Gualino, 1 7ème éd., 2023\\n"
     ]
    },
    {
     "ename": "KeyboardInterrupt",
     "evalue": "",
     "output_type": "error",
     "traceback": [
      "\u001B[0;31m---------------------------------------------------------------------------\u001B[0m",
      "\u001B[0;31mKeyboardInterrupt\u001B[0m                         Traceback (most recent call last)",
      "Cell \u001B[0;32mIn[2], line 3\u001B[0m\n\u001B[1;32m      1\u001B[0m \u001B[38;5;28;01mfrom\u001B[39;00m \u001B[38;5;21;01mcurie\u001B[39;00m\u001B[38;5;21;01m.\u001B[39;00m\u001B[38;5;21;01mgenerate_quizz\u001B[39;00m \u001B[38;5;28;01mimport\u001B[39;00m quiz\n\u001B[0;32m----> 3\u001B[0m quiz(text)\n",
      "File \u001B[0;32m~/PycharmProjects/Curie/curie/generate_quizz.py:21\u001B[0m, in \u001B[0;36mquiz\u001B[0;34m(content)\u001B[0m\n\u001B[1;32m     18\u001B[0m all_quiz \u001B[38;5;241m=\u001B[39m []\n\u001B[1;32m     19\u001B[0m \u001B[38;5;28;01mfor\u001B[39;00m doc \u001B[38;5;129;01min\u001B[39;00m content_split:\n\u001B[1;32m     20\u001B[0m     \u001B[38;5;66;03m# Try to parse the JSON string\u001B[39;00m\n\u001B[0;32m---> 21\u001B[0m     doc_quiz \u001B[38;5;241m=\u001B[39m generation(doc, lang, \u001B[38;5;124m\"\u001B[39m\u001B[38;5;124m ,\u001B[39m\u001B[38;5;124m\"\u001B[39m\u001B[38;5;241m.\u001B[39mjoin(topics))  \u001B[38;5;66;03m# generate quiz\u001B[39;00m\n\u001B[1;32m     22\u001B[0m     validation, json_object, error_message \u001B[38;5;241m=\u001B[39m validate_json_data(doc_quiz)\n\u001B[1;32m     23\u001B[0m     \u001B[38;5;28;01mif\u001B[39;00m validation:\n",
      "File \u001B[0;32m~/PycharmProjects/Curie/curie/llm_provider.py:38\u001B[0m, in \u001B[0;36mgeneration\u001B[0;34m(content, language, followings)\u001B[0m\n\u001B[1;32m     16\u001B[0m \u001B[38;5;28;01mdef\u001B[39;00m \u001B[38;5;21mgeneration\u001B[39m(content, language, followings):\n\u001B[1;32m     17\u001B[0m     prompt \u001B[38;5;241m=\u001B[39m \u001B[38;5;124mf\u001B[39m\u001B[38;5;124m\"\"\"\u001B[39m\u001B[38;5;124m <|im_start|>system You are a skilled flashcard creator. Your task is to generate a comprehensive \u001B[39m\n\u001B[1;32m     18\u001B[0m \u001B[38;5;124m     set of questions and answers based on the provided text (CORPUS). Ensure that both the questions and answers \u001B[39m\n\u001B[1;32m     19\u001B[0m \u001B[38;5;124m      align with the language used in the corpus. The content should focus on the specific topics specified by the \u001B[39m\n\u001B[0;32m   (...)\u001B[0m\n\u001B[1;32m     35\u001B[0m \u001B[38;5;124m          concise, accurate, and engaging response to the question, utilizing information from the CORPUS, \u001B[39m\n\u001B[1;32m     36\u001B[0m \u001B[38;5;124m           provided in the same language.\u001B[39m\u001B[38;5;124m\"\u001B[39m\u001B[38;5;124m \u001B[39m\u001B[38;5;130;01m}}\u001B[39;00m\u001B[38;5;124m, ... ] \u001B[39m\u001B[38;5;130;01m}}\u001B[39;00m\u001B[38;5;124m <|im_end|>\u001B[39m\u001B[38;5;124m\"\"\"\u001B[39m\n\u001B[0;32m---> 38\u001B[0m     \u001B[38;5;28;01mreturn\u001B[39;00m run_inference(prompt)\n",
      "File \u001B[0;32m~/PycharmProjects/Curie/curie/llm_provider.py:13\u001B[0m, in \u001B[0;36mrun_inference\u001B[0;34m(prompt)\u001B[0m\n\u001B[1;32m     11\u001B[0m model_name \u001B[38;5;241m=\u001B[39m \u001B[38;5;124m\"\u001B[39m\u001B[38;5;124mmlx-community/Hermes-2-Pro-Mistral-7B-8bit\u001B[39m\u001B[38;5;124m\"\u001B[39m\n\u001B[1;32m     12\u001B[0m model, tokenizer \u001B[38;5;241m=\u001B[39m load(model_name, lazy\u001B[38;5;241m=\u001B[39m\u001B[38;5;28;01mTrue\u001B[39;00m)\n\u001B[0;32m---> 13\u001B[0m \u001B[38;5;28;01mreturn\u001B[39;00m generate(model, tokenizer, prompt\u001B[38;5;241m=\u001B[39mprompt, \u001B[38;5;241m*\u001B[39m\u001B[38;5;241m*\u001B[39mconfig)\n",
      "File \u001B[0;32m~/anaconda3/envs/Curie/lib/python3.11/site-packages/mlx_lm/utils.py:242\u001B[0m, in \u001B[0;36mgenerate\u001B[0;34m(model, tokenizer, prompt, temp, max_tokens, verbose, formatter, repetition_penalty, repetition_context_size, top_p)\u001B[0m\n\u001B[1;32m    239\u001B[0m skip \u001B[38;5;241m=\u001B[39m \u001B[38;5;241m0\u001B[39m\n\u001B[1;32m    240\u001B[0m REPLACEMENT_CHAR \u001B[38;5;241m=\u001B[39m \u001B[38;5;124m\"\u001B[39m\u001B[38;5;130;01m\\ufffd\u001B[39;00m\u001B[38;5;124m\"\u001B[39m\n\u001B[0;32m--> 242\u001B[0m \u001B[38;5;28;01mfor\u001B[39;00m (token, prob), n \u001B[38;5;129;01min\u001B[39;00m \u001B[38;5;28mzip\u001B[39m(\n\u001B[1;32m    243\u001B[0m     generate_step(\n\u001B[1;32m    244\u001B[0m         prompt_tokens,\n\u001B[1;32m    245\u001B[0m         model,\n\u001B[1;32m    246\u001B[0m         temp,\n\u001B[1;32m    247\u001B[0m         repetition_penalty,\n\u001B[1;32m    248\u001B[0m         repetition_context_size,\n\u001B[1;32m    249\u001B[0m         top_p,\n\u001B[1;32m    250\u001B[0m     ),\n\u001B[1;32m    251\u001B[0m     \u001B[38;5;28mrange\u001B[39m(max_tokens),\n\u001B[1;32m    252\u001B[0m ):\n\u001B[1;32m    253\u001B[0m     \u001B[38;5;28;01mif\u001B[39;00m token \u001B[38;5;241m==\u001B[39m tokenizer\u001B[38;5;241m.\u001B[39meos_token_id:\n\u001B[1;32m    254\u001B[0m         \u001B[38;5;28;01mbreak\u001B[39;00m\n",
      "File \u001B[0;32m~/anaconda3/envs/Curie/lib/python3.11/site-packages/mlx_lm/utils.py:192\u001B[0m, in \u001B[0;36mgenerate_step\u001B[0;34m(prompt, model, temp, repetition_penalty, repetition_context_size, top_p)\u001B[0m\n\u001B[1;32m    188\u001B[0m     logits \u001B[38;5;241m=\u001B[39m apply_repetition_penalty(\n\u001B[1;32m    189\u001B[0m         logits, repetition_context, repetition_penalty\n\u001B[1;32m    190\u001B[0m     )\n\u001B[1;32m    191\u001B[0m     y, prob \u001B[38;5;241m=\u001B[39m sample(logits)\n\u001B[0;32m--> 192\u001B[0m     repetition_context\u001B[38;5;241m.\u001B[39mappend(y\u001B[38;5;241m.\u001B[39mitem())\n\u001B[1;32m    193\u001B[0m \u001B[38;5;28;01melse\u001B[39;00m:\n\u001B[1;32m    194\u001B[0m     y, prob \u001B[38;5;241m=\u001B[39m sample(logits)\n",
      "\u001B[0;31mKeyboardInterrupt\u001B[0m: "
     ]
    }
   ],
   "source": [
    "from curie.generate_quizz import quiz\n",
    "\n",
    "quiz(text.replace(\"\\n\", \" \"))"
   ],
   "metadata": {
    "collapsed": false,
    "ExecuteTime": {
     "end_time": "2024-03-18T21:12:46.242504Z",
     "start_time": "2024-03-18T21:11:17.253246Z"
    }
   },
   "id": "81a887177280ae4",
   "execution_count": 2
  },
  {
   "cell_type": "code",
   "outputs": [],
   "source": [],
   "metadata": {
    "collapsed": false
   },
   "id": "a5d506ba84be21db"
  }
 ],
 "metadata": {
  "kernelspec": {
   "display_name": "Python 3",
   "language": "python",
   "name": "python3"
  },
  "language_info": {
   "codemirror_mode": {
    "name": "ipython",
    "version": 2
   },
   "file_extension": ".py",
   "mimetype": "text/x-python",
   "name": "python",
   "nbconvert_exporter": "python",
   "pygments_lexer": "ipython2",
   "version": "2.7.6"
  }
 },
 "nbformat": 4,
 "nbformat_minor": 5
}
